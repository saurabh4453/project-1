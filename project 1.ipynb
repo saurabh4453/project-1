{
 "cells": [
  {
   "cell_type": "code",
   "execution_count": 1,
   "id": "bf032f55-762c-4bd8-8a7e-add247d96be4",
   "metadata": {},
   "outputs": [],
   "source": [
    "#1 Convert a integer to a floatig-point number.\n"
   ]
  },
  {
   "cell_type": "code",
   "execution_count": 2,
   "id": "e76f9af2-d6ea-45c0-beee-a11dd870cadb",
   "metadata": {},
   "outputs": [],
   "source": [
    "a=5"
   ]
  },
  {
   "cell_type": "code",
   "execution_count": 3,
   "id": "b0b17604-15cf-42ee-bb22-941782b11d46",
   "metadata": {},
   "outputs": [
    {
     "data": {
      "text/plain": [
       "int"
      ]
     },
     "execution_count": 3,
     "metadata": {},
     "output_type": "execute_result"
    }
   ],
   "source": [
    "type(a)"
   ]
  },
  {
   "cell_type": "code",
   "execution_count": 11,
   "id": "29fa1392-f8b1-40fa-bf85-72fec4bd498b",
   "metadata": {},
   "outputs": [
    {
     "name": "stdout",
     "output_type": "stream",
     "text": [
      "5.0\n"
     ]
    }
   ],
   "source": [
    "b=float(a)\n",
    "print(b)\n"
   ]
  },
  {
   "cell_type": "code",
   "execution_count": 12,
   "id": "e8385b6c-6204-4e1e-9cde-4cec5961fd02",
   "metadata": {},
   "outputs": [
    {
     "data": {
      "text/plain": [
       "float"
      ]
     },
     "execution_count": 12,
     "metadata": {},
     "output_type": "execute_result"
    }
   ],
   "source": [
    "type(b)"
   ]
  },
  {
   "cell_type": "code",
   "execution_count": 13,
   "id": "e3a172d3-b0ad-4dfd-934f-6a8b82bac737",
   "metadata": {},
   "outputs": [],
   "source": [
    "#2 Convert a float to a integer."
   ]
  },
  {
   "cell_type": "code",
   "execution_count": 14,
   "id": "6f673853-88c5-4d49-8de8-58a1c17a7a9a",
   "metadata": {},
   "outputs": [],
   "source": [
    "a=3.0"
   ]
  },
  {
   "cell_type": "code",
   "execution_count": 15,
   "id": "e19823bb-8e04-4b2f-923b-c1332924aa9f",
   "metadata": {},
   "outputs": [
    {
     "data": {
      "text/plain": [
       "float"
      ]
     },
     "execution_count": 15,
     "metadata": {},
     "output_type": "execute_result"
    }
   ],
   "source": [
    "type(a)"
   ]
  },
  {
   "cell_type": "code",
   "execution_count": 17,
   "id": "4a3deb42-a543-4c3b-a1c5-9ffcb6202206",
   "metadata": {},
   "outputs": [
    {
     "name": "stdout",
     "output_type": "stream",
     "text": [
      "3\n"
     ]
    }
   ],
   "source": [
    "b=int(a)\n",
    "print(b)"
   ]
  },
  {
   "cell_type": "code",
   "execution_count": 19,
   "id": "a0fafb75-843c-4ae9-8726-d54e29d3d327",
   "metadata": {},
   "outputs": [
    {
     "data": {
      "text/plain": [
       "int"
      ]
     },
     "execution_count": 19,
     "metadata": {},
     "output_type": "execute_result"
    }
   ],
   "source": [
    "type(b)"
   ]
  },
  {
   "cell_type": "code",
   "execution_count": null,
   "id": "6f62043c-d414-467d-b3d0-6f857bccd3d6",
   "metadata": {},
   "outputs": [],
   "source": [
    "#3 Convert a integer to a string."
   ]
  },
  {
   "cell_type": "code",
   "execution_count": 21,
   "id": "88699f5c-8346-4832-80c7-a764be68123e",
   "metadata": {},
   "outputs": [],
   "source": [
    "a=3"
   ]
  },
  {
   "cell_type": "code",
   "execution_count": 22,
   "id": "5987c638-70ae-4c90-ac7f-f6c9024e84a4",
   "metadata": {},
   "outputs": [
    {
     "data": {
      "text/plain": [
       "int"
      ]
     },
     "execution_count": 22,
     "metadata": {},
     "output_type": "execute_result"
    }
   ],
   "source": [
    "type(a)"
   ]
  },
  {
   "cell_type": "code",
   "execution_count": 28,
   "id": "57847f3f-f65f-425e-b595-84ed45511cc5",
   "metadata": {},
   "outputs": [
    {
     "name": "stdout",
     "output_type": "stream",
     "text": [
      "a\n"
     ]
    }
   ],
   "source": [
    "b=str(a)\n",
    "print(b)"
   ]
  },
  {
   "cell_type": "code",
   "execution_count": 25,
   "id": "213286f4-647e-4282-aa36-79c94ae281f9",
   "metadata": {},
   "outputs": [
    {
     "data": {
      "text/plain": [
       "str"
      ]
     },
     "execution_count": 25,
     "metadata": {},
     "output_type": "execute_result"
    }
   ],
   "source": [
    "type(b)"
   ]
  },
  {
   "cell_type": "code",
   "execution_count": null,
   "id": "ff42a62d-8a82-4c4f-8358-c3cf0e0f72b1",
   "metadata": {},
   "outputs": [],
   "source": [
    "#4 Convert a list to a tuple."
   ]
  },
  {
   "cell_type": "code",
   "execution_count": 30,
   "id": "07e3064d-7904-435d-a9e8-53d777af11a1",
   "metadata": {},
   "outputs": [
    {
     "data": {
      "text/plain": [
       "list"
      ]
     },
     "execution_count": 30,
     "metadata": {},
     "output_type": "execute_result"
    }
   ],
   "source": [
    "a=[1,2,3,4]\n",
    "type(a)"
   ]
  },
  {
   "cell_type": "code",
   "execution_count": 31,
   "id": "ed9e3af5-c0bd-4fad-b36d-77d2e4048925",
   "metadata": {},
   "outputs": [
    {
     "name": "stdout",
     "output_type": "stream",
     "text": [
      "(1, 2, 3, 4)\n"
     ]
    }
   ],
   "source": [
    "b=tuple(a)\n",
    "print(b)"
   ]
  },
  {
   "cell_type": "code",
   "execution_count": 34,
   "id": "8107d55c-3f3b-4395-afc3-036741b48a30",
   "metadata": {},
   "outputs": [
    {
     "data": {
      "text/plain": [
       "tuple"
      ]
     },
     "execution_count": 34,
     "metadata": {},
     "output_type": "execute_result"
    }
   ],
   "source": [
    "type(b)"
   ]
  },
  {
   "cell_type": "code",
   "execution_count": 35,
   "id": "b53a4532-f1fa-47be-97d8-69f6a65e5de4",
   "metadata": {},
   "outputs": [],
   "source": [
    "#5 Covert a tuple to a list."
   ]
  },
  {
   "cell_type": "code",
   "execution_count": 38,
   "id": "084e2c6f-d23a-4577-813c-0744278a74f9",
   "metadata": {},
   "outputs": [],
   "source": [
    "a= (1, 2, 3, 4)"
   ]
  },
  {
   "cell_type": "code",
   "execution_count": 37,
   "id": "06d3351a-0102-4115-81b1-cbdcffdd6f0c",
   "metadata": {},
   "outputs": [
    {
     "data": {
      "text/plain": [
       "tuple"
      ]
     },
     "execution_count": 37,
     "metadata": {},
     "output_type": "execute_result"
    }
   ],
   "source": [
    "type(a)"
   ]
  },
  {
   "cell_type": "code",
   "execution_count": 39,
   "id": "bedad0dd-6bb6-4d00-ae8c-870a8a4563cd",
   "metadata": {},
   "outputs": [
    {
     "name": "stdout",
     "output_type": "stream",
     "text": [
      "[1, 2, 3, 4]\n"
     ]
    }
   ],
   "source": [
    "b=list(a)\n",
    "print(b)"
   ]
  },
  {
   "cell_type": "code",
   "execution_count": 40,
   "id": "287b4168-c42a-42c4-9f19-af49d86b488b",
   "metadata": {},
   "outputs": [
    {
     "data": {
      "text/plain": [
       "list"
      ]
     },
     "execution_count": 40,
     "metadata": {},
     "output_type": "execute_result"
    }
   ],
   "source": [
    "type(b)"
   ]
  },
  {
   "cell_type": "code",
   "execution_count": 41,
   "id": "423afa4e-97c1-4900-b1a6-59b75b841bfb",
   "metadata": {},
   "outputs": [],
   "source": [
    "#6 Convert a decimal number to binary."
   ]
  },
  {
   "cell_type": "code",
   "execution_count": 46,
   "id": "eec12796-d3df-4d49-9c0f-95b4690cf39e",
   "metadata": {},
   "outputs": [
    {
     "name": "stdout",
     "output_type": "stream",
     "text": [
      "0b1010\n"
     ]
    }
   ],
   "source": [
    "decimal_number = 10\n",
    "binary_number = bin(decimal_number)\n",
    "print(binary_number)\n"
   ]
  },
  {
   "cell_type": "code",
   "execution_count": null,
   "id": "feb2dca4-b4dd-494e-a293-fb3dcb4b2721",
   "metadata": {},
   "outputs": [],
   "source": []
  },
  {
   "cell_type": "code",
   "execution_count": null,
   "id": "ff167bf6-97b0-4d08-9d53-fceff15e3431",
   "metadata": {},
   "outputs": [],
   "source": []
  },
  {
   "cell_type": "code",
   "execution_count": null,
   "id": "633696b3-90c4-4830-9a51-af7cdef50abc",
   "metadata": {},
   "outputs": [],
   "source": []
  }
 ],
 "metadata": {
  "kernelspec": {
   "display_name": "Python 3 (ipykernel)",
   "language": "python",
   "name": "python3"
  },
  "language_info": {
   "codemirror_mode": {
    "name": "ipython",
    "version": 3
   },
   "file_extension": ".py",
   "mimetype": "text/x-python",
   "name": "python",
   "nbconvert_exporter": "python",
   "pygments_lexer": "ipython3",
   "version": "3.10.8"
  }
 },
 "nbformat": 4,
 "nbformat_minor": 5
}
